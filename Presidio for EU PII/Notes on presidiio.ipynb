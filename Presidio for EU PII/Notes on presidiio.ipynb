{
 "cells": [
  {
   "cell_type": "markdown",
   "metadata": {
    "application/vnd.databricks.v1+cell": {
     "cellMetadata": {},
     "inputWidgets": {},
     "nuid": "03edd52f-eef2-45c6-8a62-21564ecb9610",
     "showTitle": false,
     "tableResultSettingsMap": {},
     "title": ""
    }
   },
   "source": [
    "What it is: \n",
    "Presidio is an open-source tool designed for detecting and anonymizing Personally Identifiable Information (PII).\n",
    "\n",
    "How it works: \n",
    "It uses a combination of rule-based recognizers (regex, context words) and NLP models to detect sensitive data like names, phone numbers, credit card numbers, email addresses, etc.\n",
    "\n",
    "What it supports out of the box: \n",
    "Mostly U.S.-centric PII types (e.g. SSNs, U.S. phone numbers, U.S. zip codes), but…\n",
    "\n",
    "You can extend it: \n",
    "You can add custom recognizers and tweak detection logic to support international PII types (e.g. EU National IDs, local phone/address formats).\n",
    "\n",
    "Bonus: It also has redaction/anonymization capabilities.\n",
    "\n",
    "Caveat: Like all automated tools, it’s not 100% accurate and can miss things or return false positives—so it should be part of a broader data governance and protection strategy.\n",
    "\n",
    "So what: \n",
    "Presidio wasn’t exactly born in Brussels—so it leans heavily on U.S.-centric PII types like SSNs and U.S. phone numbers. That’s fine for some, but for global customers—particularly in GDPR-bound regions—it leaves a big compliance gap.\n",
    "\n",
    "The notebook in this directory  test EU-specific PII detection with Presidio, covering 🇪🇸 Spain, 🇫🇷 France, 🇩🇪 Germany, and 🇮🇹 Italy — including things like DNI, Codice Fiscale, INSEE numbers, and Steuer-ID."
   ]
  },
  {
   "cell_type": "code",
   "execution_count": 0,
   "metadata": {
    "application/vnd.databricks.v1+cell": {
     "cellMetadata": {},
     "inputWidgets": {},
     "nuid": "eaf1bfef-cdc9-4cc0-8409-0a8d90cf0d5c",
     "showTitle": false,
     "tableResultSettingsMap": {},
     "title": ""
    }
   },
   "outputs": [],
   "source": []
  }
 ],
 "metadata": {
  "application/vnd.databricks.v1+notebook": {
   "computePreferences": null,
   "dashboards": [],
   "environmentMetadata": {
    "base_environment": "",
    "environment_version": "2"
   },
   "language": "python",
   "notebookMetadata": {
    "pythonIndentUnit": 2
   },
   "notebookName": "Notes on presidiio",
   "widgets": {}
  },
  "language_info": {
   "name": "python"
  }
 },
 "nbformat": 4,
 "nbformat_minor": 0
}

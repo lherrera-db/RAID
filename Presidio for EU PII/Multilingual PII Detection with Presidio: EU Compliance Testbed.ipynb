{
 "cells": [
  {
   "cell_type": "code",
   "execution_count": 0,
   "metadata": {
    "application/vnd.databricks.v1+cell": {
     "cellMetadata": {
      "byteLimit": 2048000,
      "rowLimit": 10000
     },
     "inputWidgets": {},
     "nuid": "a0f29ff5-6694-4cf7-a9ce-6e7951c272f5",
     "showTitle": false,
     "tableResultSettingsMap": {},
     "title": ""
    }
   },
   "outputs": [],
   "source": [
    "%pip install presidio-analyzer presidio-anonymizer"
   ]
  },
  {
   "cell_type": "code",
   "execution_count": 0,
   "metadata": {
    "application/vnd.databricks.v1+cell": {
     "cellMetadata": {
      "byteLimit": 2048000,
      "rowLimit": 10000
     },
     "inputWidgets": {},
     "nuid": "4624a8a2-eac3-443f-9896-6ff6a9264f0e",
     "showTitle": false,
     "tableResultSettingsMap": {},
     "title": ""
    }
   },
   "outputs": [],
   "source": [
    "%restart_python"
   ]
  },
  {
   "cell_type": "code",
   "execution_count": 0,
   "metadata": {
    "application/vnd.databricks.v1+cell": {
     "cellMetadata": {
      "byteLimit": 2048000,
      "rowLimit": 10000
     },
     "inputWidgets": {},
     "nuid": "326706c6-a7b8-46fe-be3e-36984a78acb9",
     "showTitle": false,
     "tableResultSettingsMap": {},
     "title": ""
    }
   },
   "outputs": [],
   "source": [
    "import logging\n",
    "\n",
    "logging.getLogger(\"presidio-analyzer\").setLevel(logging.ERROR)"
   ]
  },
  {
   "cell_type": "code",
   "execution_count": 0,
   "metadata": {
    "application/vnd.databricks.v1+cell": {
     "cellMetadata": {
      "byteLimit": 2048000,
      "rowLimit": 10000
     },
     "inputWidgets": {},
     "nuid": "be8a4fe0-152d-49cb-b085-8d0fd139a20c",
     "showTitle": false,
     "tableResultSettingsMap": {},
     "title": ""
    }
   },
   "outputs": [],
   "source": [
    "from presidio_analyzer import AnalyzerEngine\n",
    "\n",
    "analyzer = AnalyzerEngine()\n",
    "results = analyzer.analyze(text=\"My number is 0723456789 and my SSN is 123-45-6789\", \n",
    "                           entities=[], language=\"en\")\n",
    "\n",
    "for result in results:\n",
    "    print(result)"
   ]
  },
  {
   "cell_type": "code",
   "execution_count": 0,
   "metadata": {
    "application/vnd.databricks.v1+cell": {
     "cellMetadata": {
      "byteLimit": 2048000,
      "rowLimit": 10000
     },
     "inputWidgets": {},
     "nuid": "4e5887f6-57b6-488c-a9ec-9f30307dcd3b",
     "showTitle": false,
     "tableResultSettingsMap": {},
     "title": ""
    }
   },
   "outputs": [],
   "source": [
    "\n",
    "from presidio_analyzer import AnalyzerEngine, Pattern, PatternRecognizer\n",
    "\n",
    "def load_eu_recognizers(analyzer, languages=[\"es\", \"fr\", \"de\", \"it\"]):\n",
    "    recognizer_definitions = {\n",
    "        \"es\": [\n",
    "            {\n",
    "                \"entity\": \"SPANISH_DNI\",\n",
    "                \"pattern\": Pattern(\"SPANISH_DNI_PATTERN\", r\"\\b\\d{8}[A-Z]\\b\", 0.85),\n",
    "                \"context\": [\"dni\", \"documento\", \"identidad\", \"ciudadano\", \"persona\"]\n",
    "            },\n",
    "            {\n",
    "                \"entity\": \"SPANISH_NIE\",\n",
    "                \"pattern\": Pattern(\"SPANISH_NIE_PATTERN\", r\"\\b[XYZ]\\d{7}[A-Z]\\b\", 0.85),\n",
    "                \"context\": [\"nie\", \"extranjero\", \"residencia\", \"documento\"]\n",
    "            },\n",
    "            {\n",
    "                \"entity\": \"SPANISH_IBAN\",\n",
    "                \"pattern\": Pattern(\"SPANISH_IBAN_PATTERN\", r\"\\bES\\d{2}\\s?\\d{4}\\s?\\d{4}\\s?\\d{2}\\s?\\d{10}\\b\", 0.9),\n",
    "                \"context\": [\"cuenta\", \"IBAN\", \"banco\", \"transferencia\", \"pago\", \"domiciliación\"]\n",
    "            },\n",
    "            {\n",
    "                \"entity\": \"SPANISH_VAT_ID\",\n",
    "                \"pattern\": Pattern(\"SPANISH_VAT_PATTERN\", r\"\\b[A-Z]\\d{8}|\\d{8}[A-Z]\\b\", 0.85),\n",
    "                \"context\": [\"nif\", \"cif\", \"IVA\", \"factura\", \"empresa\"]\n",
    "            }\n",
    "        ],\n",
    "        \"fr\": [\n",
    "            {\n",
    "                \"entity\": \"FRENCH_INSEE\",\n",
    "                \"pattern\": Pattern(\"FRENCH_INSEE_PATTERN\", r\"\\b[12]\\d{2}(0[1-9]|1[0-2])\\d{2}\\d{3}\\d{3}\\b\", 0.85),\n",
    "                \"context\": [\"insee\", \"numéro\", \"sécurité\", \"sociale\", \"nss\"]\n",
    "            }\n",
    "        ],\n",
    "        \"de\": [\n",
    "            {\n",
    "                \"entity\": \"GERMAN_TAX_ID\",\n",
    "                \"pattern\": Pattern(\"GERMAN_TAX_ID_PATTERN\", r\"\\b\\d{11}\\b\", 0.85),\n",
    "                \"context\": [\"steuer\", \"id\", \"identifikationsnummer\", \"finanzamt\", \"steuerliche\"]\n",
    "            }\n",
    "        ],\n",
    "        \"it\": [\n",
    "            {\n",
    "                \"entity\": \"ITALIAN_TAX_ID\",\n",
    "                \"pattern\": Pattern(\"ITALIAN_TAX_ID_PATTERN\", r\"\\b[A-Z]{6}\\d{2}[A-Z]\\d{2}[A-Z]\\d{3}[A-Z]\\b\", 0.9),\n",
    "                \"context\": [\"codice\", \"fiscale\", \"identificativo\", \"contribuente\"]\n",
    "            }\n",
    "        ]\n",
    "    }\n",
    "\n",
    "    for lang in languages:\n",
    "        if lang not in recognizer_definitions:\n",
    "            print(f\"⚠️ No recognizers defined for language: {lang}\")\n",
    "            continue\n",
    "\n",
    "        for r in recognizer_definitions[lang]:\n",
    "            recognizer = PatternRecognizer(\n",
    "                supported_entity=r[\"entity\"],\n",
    "                supported_language=lang,\n",
    "                patterns=[r[\"pattern\"]],\n",
    "                context=r[\"context\"]\n",
    "            )\n",
    "            analyzer.registry.add_recognizer(recognizer)\n",
    "\n",
    "    print(f\"✅ EU recognizers loaded for languages: {', '.join(languages)}\")\n"
   ]
  },
  {
   "cell_type": "code",
   "execution_count": 0,
   "metadata": {
    "application/vnd.databricks.v1+cell": {
     "cellMetadata": {
      "byteLimit": 2048000,
      "rowLimit": 10000
     },
     "inputWidgets": {},
     "nuid": "3dc1514b-98fe-4d41-80e9-768ce16bed72",
     "showTitle": false,
     "tableResultSettingsMap": {},
     "title": ""
    }
   },
   "outputs": [],
   "source": [
    "# Install the Spanish language model\n",
    "!python -m spacy download es_core_news_sm\n"
   ]
  },
  {
   "cell_type": "code",
   "execution_count": 0,
   "metadata": {
    "application/vnd.databricks.v1+cell": {
     "cellMetadata": {
      "byteLimit": 2048000,
      "rowLimit": 10000
     },
     "inputWidgets": {},
     "nuid": "fb2e5ef7-c4e2-400a-b352-667860fe96ca",
     "showTitle": false,
     "tableResultSettingsMap": {},
     "title": ""
    }
   },
   "outputs": [],
   "source": [
    "from presidio_analyzer import AnalyzerEngine\n",
    "from presidio_analyzer.nlp_engine import SpacyNlpEngine\n",
    "import spacy\n",
    "\n",
    "# Load the Spanish language model\n",
    "nlp = spacy.load(\"es_core_news_sm\")\n",
    "\n",
    "# Create a Spacy NLP engine\n",
    "nlp_engine = SpacyNlpEngine(\n",
    "    models=[\n",
    "        {\"lang_code\": \"es\", \"model_name\": \"es_core_news_sm\"}\n",
    "    ]\n",
    ")\n",
    "\n",
    "# Create an analyzer with the NLP engine\n",
    "analyzer = AnalyzerEngine(nlp_engine=nlp_engine, \n",
    "                          supported_languages=[\"es\", \"fr\", \"de\", \"it\"] \n",
    "                          )\n",
    "\n",
    "\n",
    "\n",
    "# Register recognizers\n",
    "load_eu_recognizers(analyzer, languages=[\"es\", \"fr\", \"de\", \"it\"])\n"
   ]
  },
  {
   "cell_type": "code",
   "execution_count": 0,
   "metadata": {
    "application/vnd.databricks.v1+cell": {
     "cellMetadata": {
      "byteLimit": 2048000,
      "rowLimit": 10000
     },
     "inputWidgets": {},
     "nuid": "5516fd3f-10a2-481b-ac33-e0c0dc9082b5",
     "showTitle": false,
     "tableResultSettingsMap": {},
     "title": ""
    }
   },
   "outputs": [],
   "source": [
    "text = \"\"\"\n",
    "El DNI del cliente es 12345678Z y su NIE es X1234567L.\n",
    "También puedes hacer la transferencia a ES91 2100 0418 4502 0005 1332.\n",
    "El NIF es B12345678.\n",
    "\"\"\"\n",
    "\n",
    "results = analyzer.analyze(\n",
    "    text=text,\n",
    "    entities=[\"SPANISH_DNI\", \"SPANISH_NIE\", \"SPANISH_IBAN\", \"SPANISH_VAT_ID\"],\n",
    "    language=\"es\"\n",
    ")\n",
    "\n",
    "for result in results:\n",
    "    print(f\"Detected {result.entity_type} at position {result.start}-{result.end}: {text[result.start:result.end]} with score {result.score}\")\n"
   ]
  },
  {
   "cell_type": "code",
   "execution_count": 0,
   "metadata": {
    "application/vnd.databricks.v1+cell": {
     "cellMetadata": {
      "byteLimit": 2048000,
      "rowLimit": 10000
     },
     "inputWidgets": {},
     "nuid": "d859f309-7db6-4001-8fc2-6907ceab1fea",
     "showTitle": false,
     "tableResultSettingsMap": {},
     "title": ""
    }
   },
   "outputs": [],
   "source": [
    "from presidio_anonymizer import AnonymizerEngine\n",
    "anonymizer = AnonymizerEngine()\n",
    "\n",
    "anonymized_result = anonymizer.anonymize(\n",
    "    text=text,\n",
    "    analyzer_results=results\n",
    ")\n",
    "\n",
    "print(anonymized_result.text)"
   ]
  }
 ],
 "metadata": {
  "application/vnd.databricks.v1+notebook": {
   "computePreferences": null,
   "dashboards": [],
   "environmentMetadata": {
    "base_environment": "",
    "environment_version": "2"
   },
   "language": "python",
   "notebookMetadata": {
    "pythonIndentUnit": 2
   },
   "notebookName": "Multilingual PII Detection with Presidio: EU Compliance Testbed",
   "widgets": {}
  },
  "language_info": {
   "name": "python"
  }
 },
 "nbformat": 4,
 "nbformat_minor": 0
}
